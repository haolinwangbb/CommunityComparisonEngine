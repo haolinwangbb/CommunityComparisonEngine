{
 "cells": [
  {
   "cell_type": "code",
   "execution_count": 1,
   "id": "24a34d48",
   "metadata": {},
   "outputs": [
    {
     "data": {
      "text/plain": [
       "['.ipynb_checkpoints',\n",
       " '2306-G-2701_v2.ipynb',\n",
       " 'Prefer city - cd_demo_age_gender.csv',\n",
       " 'Prefer city - cd_demo_race_economics.csv',\n",
       " 'Synthetic Data Latest - Synthetic Data.csv']"
      ]
     },
     "execution_count": 1,
     "metadata": {},
     "output_type": "execute_result"
    }
   ],
   "source": [
    "import os\n",
    "import pandas as pd\n",
    "os.listdir()"
   ]
  },
  {
   "cell_type": "code",
   "execution_count": 2,
   "id": "ed29cea9",
   "metadata": {},
   "outputs": [
    {
     "data": {
      "text/plain": [
       "Index(['cd_name', 'cd_number', 'borough', 'pop_2000', 'pop_2010',\n",
       "       'pop_estimate_acs', 'pop_change_00_10', 'pop_pct_female_under_5',\n",
       "       'pop_pct_female_5_9', 'pop_pct_female_10_14', 'pop_pct_female_15_19',\n",
       "       'pop_pct_female_20_24', 'pop_pct_female_25_29', 'pop_pct_female_30_34',\n",
       "       'pop_pct_female_35_39', 'pop_pct_female_40_44', 'pop_pct_female_45_49',\n",
       "       'pop_pct_female_50_54', 'pop_pct_female_55_59', 'pop_pct_female_60_64',\n",
       "       'pop_pct_female_65_69', 'pop_pct_female_70_74', 'pop_pct_female_75_79',\n",
       "       'pop_pct_female_80_84', 'pop_pct_female_85_over',\n",
       "       'pop_pct_male_under_5', 'pop_pct_male_5_9', 'pop_pct_male_10_14',\n",
       "       'pop_pct_male_15_19', 'pop_pct_male_20_24', 'pop_pct_male_25_29',\n",
       "       'pop_pct_male_30_34', 'pop_pct_male_35_39', 'pop_pct_male_40_44',\n",
       "       'pop_pct_male_45_49', 'pop_pct_male_50_54', 'pop_pct_male_55_59',\n",
       "       'pop_pct_male_60_64', 'pop_pct_male_65_69', 'pop_pct_male_70_74',\n",
       "       'pop_pct_male_75_79', 'pop_pct_male_80_84', 'pop_pct_male_85_over',\n",
       "       'under18_rate', 'moe_under18_rate', 'over65_rate', 'moe_over65_rate'],\n",
       "      dtype='object')"
      ]
     },
     "execution_count": 2,
     "metadata": {},
     "output_type": "execute_result"
    }
   ],
   "source": [
    "\n",
    "age_gender = pd.read_csv(\"Prefer city - cd_demo_age_gender.csv\")\n",
    "age_gender.columns"
   ]
  },
  {
   "cell_type": "code",
   "execution_count": 3,
   "id": "daffac6c",
   "metadata": {},
   "outputs": [
    {
     "data": {
      "text/html": [
       "<div>\n",
       "<style scoped>\n",
       "    .dataframe tbody tr th:only-of-type {\n",
       "        vertical-align: middle;\n",
       "    }\n",
       "\n",
       "    .dataframe tbody tr th {\n",
       "        vertical-align: top;\n",
       "    }\n",
       "\n",
       "    .dataframe thead th {\n",
       "        text-align: right;\n",
       "    }\n",
       "</style>\n",
       "<table border=\"1\" class=\"dataframe\">\n",
       "  <thead>\n",
       "    <tr style=\"text-align: right;\">\n",
       "      <th></th>\n",
       "      <th>cd_name</th>\n",
       "      <th>cd_number</th>\n",
       "      <th>borough</th>\n",
       "      <th>pop_2000</th>\n",
       "      <th>pop_2010</th>\n",
       "      <th>pop_estimate_acs</th>\n",
       "      <th>pop_change_00_10</th>\n",
       "      <th>pop_pct_female_under_5</th>\n",
       "      <th>pop_pct_female_5_9</th>\n",
       "      <th>pop_pct_female_10_14</th>\n",
       "      <th>...</th>\n",
       "      <th>pop_pct_male_60_64</th>\n",
       "      <th>pop_pct_male_65_69</th>\n",
       "      <th>pop_pct_male_70_74</th>\n",
       "      <th>pop_pct_male_75_79</th>\n",
       "      <th>pop_pct_male_80_84</th>\n",
       "      <th>pop_pct_male_85_over</th>\n",
       "      <th>under18_rate</th>\n",
       "      <th>moe_under18_rate</th>\n",
       "      <th>over65_rate</th>\n",
       "      <th>moe_over65_rate</th>\n",
       "    </tr>\n",
       "  </thead>\n",
       "  <tbody>\n",
       "    <tr>\n",
       "      <th>0</th>\n",
       "      <td>Bronx Community District 1</td>\n",
       "      <td>201</td>\n",
       "      <td>Bronx</td>\n",
       "      <td>82159</td>\n",
       "      <td>91497</td>\n",
       "      <td>101542</td>\n",
       "      <td>0.11</td>\n",
       "      <td>3.6</td>\n",
       "      <td>4.4</td>\n",
       "      <td>3.5</td>\n",
       "      <td>...</td>\n",
       "      <td>1.6</td>\n",
       "      <td>0.9</td>\n",
       "      <td>1.1</td>\n",
       "      <td>0.8</td>\n",
       "      <td>0.3</td>\n",
       "      <td>0.1</td>\n",
       "      <td>29.7</td>\n",
       "      <td>1.3</td>\n",
       "      <td>9.0</td>\n",
       "      <td>0.5</td>\n",
       "    </tr>\n",
       "    <tr>\n",
       "      <th>1</th>\n",
       "      <td>Bronx Community District 2</td>\n",
       "      <td>202</td>\n",
       "      <td>Bronx</td>\n",
       "      <td>46824</td>\n",
       "      <td>52246</td>\n",
       "      <td>70144</td>\n",
       "      <td>0.12</td>\n",
       "      <td>3.3</td>\n",
       "      <td>3.5</td>\n",
       "      <td>3.4</td>\n",
       "      <td>...</td>\n",
       "      <td>2.0</td>\n",
       "      <td>1.1</td>\n",
       "      <td>0.8</td>\n",
       "      <td>0.8</td>\n",
       "      <td>0.3</td>\n",
       "      <td>0.3</td>\n",
       "      <td>27.5</td>\n",
       "      <td>1.2</td>\n",
       "      <td>9.2</td>\n",
       "      <td>0.6</td>\n",
       "    </tr>\n",
       "    <tr>\n",
       "      <th>2</th>\n",
       "      <td>Bronx Community District 3</td>\n",
       "      <td>203</td>\n",
       "      <td>Bronx</td>\n",
       "      <td>68574</td>\n",
       "      <td>79762</td>\n",
       "      <td>110290</td>\n",
       "      <td>0.16</td>\n",
       "      <td>4.4</td>\n",
       "      <td>4.0</td>\n",
       "      <td>4.0</td>\n",
       "      <td>...</td>\n",
       "      <td>2.1</td>\n",
       "      <td>1.4</td>\n",
       "      <td>0.8</td>\n",
       "      <td>0.8</td>\n",
       "      <td>0.4</td>\n",
       "      <td>0.2</td>\n",
       "      <td>29.1</td>\n",
       "      <td>1.1</td>\n",
       "      <td>9.2</td>\n",
       "      <td>0.5</td>\n",
       "    </tr>\n",
       "    <tr>\n",
       "      <th>3</th>\n",
       "      <td>Bronx Community District 6</td>\n",
       "      <td>206</td>\n",
       "      <td>Bronx</td>\n",
       "      <td>75688</td>\n",
       "      <td>83268</td>\n",
       "      <td>108893</td>\n",
       "      <td>0.10</td>\n",
       "      <td>4.8</td>\n",
       "      <td>3.5</td>\n",
       "      <td>3.5</td>\n",
       "      <td>...</td>\n",
       "      <td>1.9</td>\n",
       "      <td>1.4</td>\n",
       "      <td>1.0</td>\n",
       "      <td>0.9</td>\n",
       "      <td>0.3</td>\n",
       "      <td>0.3</td>\n",
       "      <td>28.3</td>\n",
       "      <td>1.2</td>\n",
       "      <td>9.6</td>\n",
       "      <td>0.5</td>\n",
       "    </tr>\n",
       "    <tr>\n",
       "      <th>4</th>\n",
       "      <td>Bronx Community District 4</td>\n",
       "      <td>204</td>\n",
       "      <td>Bronx</td>\n",
       "      <td>139563</td>\n",
       "      <td>146441</td>\n",
       "      <td>161994</td>\n",
       "      <td>0.05</td>\n",
       "      <td>3.5</td>\n",
       "      <td>4.1</td>\n",
       "      <td>4.3</td>\n",
       "      <td>...</td>\n",
       "      <td>2.0</td>\n",
       "      <td>1.3</td>\n",
       "      <td>0.9</td>\n",
       "      <td>0.6</td>\n",
       "      <td>0.4</td>\n",
       "      <td>0.3</td>\n",
       "      <td>27.7</td>\n",
       "      <td>1.0</td>\n",
       "      <td>9.7</td>\n",
       "      <td>0.5</td>\n",
       "    </tr>\n",
       "  </tbody>\n",
       "</table>\n",
       "<p>5 rows × 47 columns</p>\n",
       "</div>"
      ],
      "text/plain": [
       "                      cd_name  cd_number borough  pop_2000  pop_2010  \\\n",
       "0  Bronx Community District 1        201   Bronx     82159     91497   \n",
       "1  Bronx Community District 2        202   Bronx     46824     52246   \n",
       "2  Bronx Community District 3        203   Bronx     68574     79762   \n",
       "3  Bronx Community District 6        206   Bronx     75688     83268   \n",
       "4  Bronx Community District 4        204   Bronx    139563    146441   \n",
       "\n",
       "   pop_estimate_acs  pop_change_00_10  pop_pct_female_under_5  \\\n",
       "0            101542              0.11                     3.6   \n",
       "1             70144              0.12                     3.3   \n",
       "2            110290              0.16                     4.4   \n",
       "3            108893              0.10                     4.8   \n",
       "4            161994              0.05                     3.5   \n",
       "\n",
       "   pop_pct_female_5_9  pop_pct_female_10_14  ...  pop_pct_male_60_64  \\\n",
       "0                 4.4                   3.5  ...                 1.6   \n",
       "1                 3.5                   3.4  ...                 2.0   \n",
       "2                 4.0                   4.0  ...                 2.1   \n",
       "3                 3.5                   3.5  ...                 1.9   \n",
       "4                 4.1                   4.3  ...                 2.0   \n",
       "\n",
       "   pop_pct_male_65_69  pop_pct_male_70_74  pop_pct_male_75_79  \\\n",
       "0                 0.9                 1.1                 0.8   \n",
       "1                 1.1                 0.8                 0.8   \n",
       "2                 1.4                 0.8                 0.8   \n",
       "3                 1.4                 1.0                 0.9   \n",
       "4                 1.3                 0.9                 0.6   \n",
       "\n",
       "   pop_pct_male_80_84  pop_pct_male_85_over  under18_rate  moe_under18_rate  \\\n",
       "0                 0.3                   0.1          29.7               1.3   \n",
       "1                 0.3                   0.3          27.5               1.2   \n",
       "2                 0.4                   0.2          29.1               1.1   \n",
       "3                 0.3                   0.3          28.3               1.2   \n",
       "4                 0.4                   0.3          27.7               1.0   \n",
       "\n",
       "   over65_rate  moe_over65_rate  \n",
       "0          9.0              0.5  \n",
       "1          9.2              0.6  \n",
       "2          9.2              0.5  \n",
       "3          9.6              0.5  \n",
       "4          9.7              0.5  \n",
       "\n",
       "[5 rows x 47 columns]"
      ]
     },
     "execution_count": 3,
     "metadata": {},
     "output_type": "execute_result"
    }
   ],
   "source": [
    "age_gender.head()"
   ]
  },
  {
   "cell_type": "code",
   "execution_count": 4,
   "id": "a847d4bd",
   "metadata": {
    "ExecuteTime": {
     "end_time": "2023-05-24T15:42:00.465331Z",
     "start_time": "2023-05-24T15:42:00.457286Z"
    },
    "id": "a847d4bd",
    "scrolled": true
   },
   "outputs": [],
   "source": [
    "import pandas as pd\n",
    "sample_input=pd.read_csv(\"Synthetic Data Latest - Synthetic Data.csv\", skiprows=1)\n",
    "population_data=pd.read_csv(\"Prefer city - cd_demo_race_economics.csv\")"
   ]
  },
  {
   "cell_type": "code",
   "execution_count": 5,
   "id": "ee38c85f",
   "metadata": {
    "ExecuteTime": {
     "end_time": "2023-05-24T15:42:00.678367Z",
     "start_time": "2023-05-24T15:42:00.667447Z"
    },
    "colab": {
     "base_uri": "https://localhost:8080/",
     "height": 423
    },
    "id": "ee38c85f",
    "outputId": "b00b664c-54e2-47c2-db5b-9172a964d6be"
   },
   "outputs": [
    {
     "data": {
      "text/plain": [
       "Index(['ID', 'Age', 'Annual Income', 'Gender', 'Ethnicity', 'CrossStreet1',\n",
       "       ' CrossStreet2', 'ZipCode'],\n",
       "      dtype='object')"
      ]
     },
     "execution_count": 5,
     "metadata": {},
     "output_type": "execute_result"
    }
   ],
   "source": [
    "sample_input.columns"
   ]
  },
  {
   "cell_type": "code",
   "execution_count": 6,
   "id": "d35df669",
   "metadata": {
    "ExecuteTime": {
     "end_time": "2023-05-24T15:42:45.679923Z",
     "start_time": "2023-05-24T15:42:45.669474Z"
    },
    "id": "d35df669"
   },
   "outputs": [],
   "source": [
    "sample_input.dropna(subset=['ID'], inplace=True)\n",
    "sample_input.drop(sample_input.index[-1], inplace=True)\n",
    "sample_input['ID'] = sample_input['ID'].astype(int)\n",
    "sample_input['Zipcode'] = sample_input['ZipCode'].astype(int)\n",
    "sample_input['Age'] = sample_input['Age'].astype('category')\n",
    "sample_input['Annual Income'] = sample_input['Annual Income'].astype('category')\n",
    "sample_input['Ethnicity'] = sample_input['Ethnicity'].astype('category')\n",
    "# sample_input['Feedback Option'] = sample_input['Feedback Option'].astype('category')\n",
    "# sample_input['Feedback Details'] = sample_input['Feedback Details'].astype('object')"
   ]
  },
  {
   "cell_type": "code",
   "execution_count": 7,
   "id": "8a930cf7",
   "metadata": {
    "ExecuteTime": {
     "end_time": "2023-05-24T15:42:58.535695Z",
     "start_time": "2023-05-24T15:42:58.529708Z"
    },
    "colab": {
     "base_uri": "https://localhost:8080/"
    },
    "id": "8a930cf7",
    "outputId": "31917a5f-e91a-4be6-8167-09f4e74a2c09"
   },
   "outputs": [
    {
     "name": "stdout",
     "output_type": "stream",
     "text": [
      "Asian                        0.256410\n",
      "Hispanic                     0.230769\n",
      "White                        0.230769\n",
      "Black                        0.179487\n",
      "Black/African American       0.051282\n",
      "Hispanic/Latino              0.051282\n",
      "African American             0.000000\n",
      "Black or African American    0.000000\n",
      "Hispanic or Latino           0.000000\n",
      "Name: Ethnicity, dtype: float64 39\n"
     ]
    }
   ],
   "source": [
    "filtered_data = sample_input[sample_input['Zipcode'] == 11101]\n",
    "race_proportions = filtered_data['Ethnicity'].value_counts(normalize=True)\n",
    "\n",
    "race_N = filtered_data.shape[0]\n",
    "print(race_proportions, race_N)"
   ]
  },
  {
   "cell_type": "code",
   "execution_count": 8,
   "id": "263e48a2",
   "metadata": {},
   "outputs": [
    {
     "data": {
      "text/plain": [
       "{'pct_white_nh': 0.46399999999999997,\n",
       " 'pct_black_nh': 0.085,\n",
       " 'pct_asian_nh': 0.153,\n",
       " 'pct_other_nh': 0.028999999999999998,\n",
       " 'pct_hispanic': 0.26899999999999996}"
      ]
     },
     "execution_count": 8,
     "metadata": {},
     "output_type": "execute_result"
    }
   ],
   "source": [
    "filtered_data = population_data[population_data['cd_name'] == 'Queens Community District 1']\n",
    "poplution_df=filtered_data[['pct_white_nh','pct_black_nh','pct_asian_nh','pct_other_nh','pct_hispanic']]\n",
    "population_race_pop  = (poplution_df.iloc[0]/100).to_dict()\n",
    "population_race_pop"
   ]
  },
  {
   "cell_type": "code",
   "execution_count": 9,
   "id": "b668b40a",
   "metadata": {},
   "outputs": [],
   "source": [
    "race_pop = {}\n",
    "\n",
    "race_pop['pct_white_nh'] = race_proportions['White']\n",
    "race_pop['pct_black_nh'] = race_proportions['Black']\n",
    "race_pop['pct_asian_nh'] = race_proportions['Asian']\n",
    "race_pop['pct_hispanic'] = race_proportions['Hispanic']\n",
    "race_pop['pct_other_nh'] = 1 - sum(race_pop.values())"
   ]
  },
  {
   "cell_type": "code",
   "execution_count": 10,
   "id": "b8638c6c",
   "metadata": {},
   "outputs": [
    {
     "name": "stdout",
     "output_type": "stream",
     "text": [
      "For race white_nh:\n",
      "sample proportion is  0.2308 , population proportion is  0.464\n",
      "H0: The sample proportion is equal to the population proportion\n",
      "H1: The sample proportion is less than the population proportion\n",
      "Test statistic (Z): -2.9206314874293247\n",
      "P-value: 0.0017466137735600224\n",
      "Conclusion: We reject the null hypothesis. The sample proportion is significantly smaller than the population proportion.\n",
      "\n",
      "For race black_nh:\n",
      "sample proportion is  0.1795 , population proportion is  0.085\n",
      "H0: The sample proportion is equal to the population proportion\n",
      "H1: The sample proportion is greater than the population proportion\n",
      "Test statistic (Z): 2.1158514761468745\n",
      "P-value: 0.017178720733746156\n",
      "Conclusion: We reject the null hypothesis. The sample proportion is significantly larger than the population proportion.\n",
      "\n",
      "For race asian_nh:\n",
      "sample proportion is  0.2564 , population proportion is  0.153\n",
      "H0: The sample proportion is equal to the population proportion\n",
      "H1: The sample proportion is greater than the population proportion\n",
      "Test statistic (Z): 1.793942413792813\n",
      "P-value: 0.036411180378718155\n",
      "Conclusion: We reject the null hypothesis. The sample proportion is significantly larger than the population proportion.\n",
      "\n",
      "For race hispanic:\n",
      "sample proportion is  0.2308 , population proportion is  0.269\n",
      "H0: The sample proportion is equal to the population proportion\n",
      "H1: The sample proportion is less than the population proportion\n",
      "Test statistic (Z): -0.538406769171163\n",
      "P-value: 0.2951481270469255\n",
      "Conclusion: We fail to reject the null hypothesis. The sample proportion is not significantly different from the population proportion.\n",
      "\n",
      "For race other_nh:\n",
      "sample proportion is  0.1026 , population proportion is  0.029\n",
      "H0: The sample proportion is equal to the population proportion\n",
      "H1: The sample proportion is greater than the population proportion\n",
      "Test statistic (Z): 2.737723796035764\n",
      "P-value: 0.0030933005371334144\n",
      "Conclusion: We reject the null hypothesis. The sample proportion is significantly larger than the population proportion.\n",
      "\n"
     ]
    }
   ],
   "source": [
    "import scipy.stats as stats\n",
    "\n",
    "\n",
    "for race in race_pop.keys():\n",
    "    print(f\"For race {race.replace('pct_', '')}:\")\n",
    "    \n",
    "    \n",
    "    # Define hypotheses\n",
    "    print(\"sample proportion is \", round(race_pop[race], 4), \n",
    "          \", population proportion is \", round(population_race_pop[race], 4))\n",
    "    if race_pop[race] > population_race_pop[race]:\n",
    "        print(f\"H0: The sample proportion is equal to the population proportion\")\n",
    "        print(f\"H1: The sample proportion is greater than the population proportion\")\n",
    "    else:\n",
    "        print(f\"H0: The sample proportion is equal to the population proportion\")\n",
    "        print(f\"H1: The sample proportion is less than the population proportion\")\n",
    "        \n",
    "    # Calculate test statistic\n",
    "    z = (race_pop[race] - population_race_pop[race]) / ((population_race_pop[race] * (1 - population_race_pop[race]) / race_N) ** 0.5)\n",
    "    print(f\"Test statistic (Z): {z}\")\n",
    "\n",
    "    if race_pop[race] > population_race_pop[race]:\n",
    "        # Calculate p-value for the test that sample proportion > population proportion\n",
    "        p_value = 1 - stats.norm.cdf(abs(z))  # One-tailed test\n",
    "    else:\n",
    "        # Calculate p-value for the test that sample proportion < population proportion\n",
    "        p_value = stats.norm.cdf(-abs(z))  # One-tailed test\n",
    "\n",
    "    print(f\"P-value: {p_value}\")\n",
    "\n",
    "    # Conclusion\n",
    "    if p_value < 0.05:\n",
    "        if race_pop[race] > population_race_pop[race]:\n",
    "            print(f\"Conclusion: We reject the null hypothesis. The sample proportion is significantly larger than the population proportion.\\n\")\n",
    "        else:\n",
    "            print(f\"Conclusion: We reject the null hypothesis. The sample proportion is significantly smaller than the population proportion.\\n\")\n",
    "    else:\n",
    "        print(f\"Conclusion: We fail to reject the null hypothesis. The sample proportion is not significantly different from the population proportion.\\n\")\n"
   ]
  },
  {
   "cell_type": "code",
   "execution_count": 11,
   "id": "e9445157",
   "metadata": {},
   "outputs": [],
   "source": [
    "# based on above, the data is not representative in the term of race group."
   ]
  },
  {
   "cell_type": "code",
   "execution_count": 12,
   "id": "e6faac83",
   "metadata": {},
   "outputs": [],
   "source": [
    "pop_gender = age_gender[age_gender['cd_name'] == 'Queens Community District 1']"
   ]
  },
  {
   "cell_type": "code",
   "execution_count": 13,
   "id": "53c521f4",
   "metadata": {},
   "outputs": [
    {
     "data": {
      "text/plain": [
       "{'cd_name': 'Queens Community District 1',\n",
       " 'cd_number': 401,\n",
       " 'borough': 'Queens',\n",
       " 'pop_2000': 211220,\n",
       " 'pop_2010': 191105,\n",
       " 'pop_estimate_acs': 179467,\n",
       " 'pop_change_00_10': -0.1,\n",
       " 'pop_pct_female_under_5': 2.1,\n",
       " 'pop_pct_female_5_9': 1.8,\n",
       " 'pop_pct_female_10_14': 1.7,\n",
       " 'pop_pct_female_15_19': 1.8,\n",
       " 'pop_pct_female_20_24': 3.4,\n",
       " 'pop_pct_female_25_29': 7.1,\n",
       " 'pop_pct_female_30_34': 6.2,\n",
       " 'pop_pct_female_35_39': 4.1,\n",
       " 'pop_pct_female_40_44': 2.8,\n",
       " 'pop_pct_female_45_49': 2.8,\n",
       " 'pop_pct_female_50_54': 2.9,\n",
       " 'pop_pct_female_55_59': 2.7,\n",
       " 'pop_pct_female_60_64': 2.3,\n",
       " 'pop_pct_female_65_69': 2.4,\n",
       " 'pop_pct_female_70_74': 1.7,\n",
       " 'pop_pct_female_75_79': 1.3,\n",
       " 'pop_pct_female_80_84': 0.9,\n",
       " 'pop_pct_female_85_over': 1.2,\n",
       " 'pop_pct_male_under_5': 2.5,\n",
       " 'pop_pct_male_5_9': 2.0,\n",
       " 'pop_pct_male_10_14': 1.9,\n",
       " 'pop_pct_male_15_19': 2.1,\n",
       " 'pop_pct_male_20_24': 3.5,\n",
       " 'pop_pct_male_25_29': 7.2,\n",
       " 'pop_pct_male_30_34': 6.5,\n",
       " 'pop_pct_male_35_39': 5.2,\n",
       " 'pop_pct_male_40_44': 3.6,\n",
       " 'pop_pct_male_45_49': 3.4,\n",
       " 'pop_pct_male_50_54': 3.0,\n",
       " 'pop_pct_male_55_59': 2.6,\n",
       " 'pop_pct_male_60_64': 2.3,\n",
       " 'pop_pct_male_65_69': 1.7,\n",
       " 'pop_pct_male_70_74': 1.3,\n",
       " 'pop_pct_male_75_79': 1.0,\n",
       " 'pop_pct_male_80_84': 0.6,\n",
       " 'pop_pct_male_85_over': 0.5,\n",
       " 'under18_rate': 14.1,\n",
       " 'moe_under18_rate': 0.7,\n",
       " 'over65_rate': 12.6,\n",
       " 'moe_over65_rate': 0.5}"
      ]
     },
     "execution_count": 13,
     "metadata": {},
     "output_type": "execute_result"
    }
   ],
   "source": [
    "pop_gender.iloc[0].to_dict()"
   ]
  },
  {
   "cell_type": "code",
   "execution_count": 14,
   "id": "45088e1a",
   "metadata": {},
   "outputs": [
    {
     "data": {
      "text/plain": [
       "array(['18-28', '38-48', '28-38', '48-58', '58-68', '68-78', '78-88',\n",
       "       '88-98', '98+'], dtype=object)"
      ]
     },
     "execution_count": 14,
     "metadata": {},
     "output_type": "execute_result"
    }
   ],
   "source": [
    "sample_input.Age.str.replace(\" \", \"\").unique()"
   ]
  },
  {
   "cell_type": "markdown",
   "id": "6faa9c10",
   "metadata": {},
   "source": [
    "in population data, age group is classified different from sample data, hypothesis on age propotion is not possible.\n",
    "\n",
    "Moreover, the sample has age above 18, poplulation data provide, in most closed case, is above 20."
   ]
  },
  {
   "cell_type": "code",
   "execution_count": 15,
   "id": "0f65b9ce",
   "metadata": {},
   "outputs": [
    {
     "data": {
      "text/plain": [
       "(0.33174603174603173, 0.6682539682539682)"
      ]
     },
     "execution_count": 15,
     "metadata": {},
     "output_type": "execute_result"
    }
   ],
   "source": [
    "pop_age_dict = {\n",
    "\n",
    "\n",
    " 'pop_pct_female_20_24': 3.4,\n",
    " 'pop_pct_female_25_29': 7.1,\n",
    " 'pop_pct_female_30_34': 6.2,\n",
    " 'pop_pct_female_35_39': 4.1,\n",
    " 'pop_pct_female_40_44': 2.8,\n",
    " 'pop_pct_female_45_49': 2.8,\n",
    " 'pop_pct_female_50_54': 2.9,\n",
    " 'pop_pct_female_55_59': 2.7,\n",
    " 'pop_pct_female_60_64': 2.3,\n",
    " 'pop_pct_female_65_69': 2.4,\n",
    " 'pop_pct_female_70_74': 1.7,\n",
    " 'pop_pct_female_75_79': 1.3,\n",
    " 'pop_pct_female_80_84': 0.9,\n",
    " 'pop_pct_female_85_over': 1.2,\n",
    "\n",
    " 'pop_pct_male_20_24': 3.5,\n",
    " 'pop_pct_male_25_29': 7.2,\n",
    " 'pop_pct_male_30_34': 6.5,\n",
    " 'pop_pct_male_35_39': 5.2,\n",
    " 'pop_pct_male_40_44': 3.6,\n",
    " 'pop_pct_male_45_49': 3.4,\n",
    " 'pop_pct_male_50_54': 3.0,\n",
    " 'pop_pct_male_55_59': 2.6,\n",
    " 'pop_pct_male_60_64': 2.3,\n",
    " 'pop_pct_male_65_69': 1.7,\n",
    " 'pop_pct_male_70_74': 1.3,\n",
    " 'pop_pct_male_75_79': 1.0,\n",
    " 'pop_pct_male_80_84': 0.6,\n",
    " 'pop_pct_male_85_over': 0.5}\n",
    "# Calculate the population proportion for each gender considering only those above 20\n",
    "pop_pct_female_above_20 = sum(v for k, v in pop_age_dict.items() if 'female' in k)\n",
    "pop_pct_male_above_20 = sum(v for k, v in pop_age_dict.items() if 'male' in k)\n",
    "\n",
    "# Normalize these proportions so they add up to 1\n",
    "total_pop_above_20 = pop_pct_female_above_20 + pop_pct_male_above_20\n",
    "pop_pct_female = pop_pct_female_above_20 / total_pop_above_20\n",
    "pop_pct_male = pop_pct_male_above_20 / total_pop_above_20\n",
    "pop_pct_female,pop_pct_male"
   ]
  },
  {
   "cell_type": "code",
   "execution_count": 16,
   "id": "9dfe746e",
   "metadata": {},
   "outputs": [
    {
     "name": "stdout",
     "output_type": "stream",
     "text": [
      "For Female:\n",
      "Sample proportion: 0.4222222222222222\n",
      "Population proportion: 0.33174603174603173\n",
      "H0: The sample proportion is equal to the population proportion\n",
      "H1: The sample proportion is not equal to the population proportion\n",
      "Test statistic (Z): 2.3768752044273853\n",
      "P-value: 0.017459994131158632\n",
      "Conclusion: We reject the null hypothesis. The sample proportion is significantly different from the population proportion.\n",
      "\n",
      "For Male:\n",
      "Sample proportion: 0.5777777777777777\n",
      "Population proportion: 0.6682539682539682\n",
      "H0: The sample proportion is equal to the population proportion\n",
      "H1: The sample proportion is not equal to the population proportion\n",
      "Test statistic (Z): -2.3768752044273853\n",
      "P-value: 0.017459994131158632\n",
      "Conclusion: We reject the null hypothesis. The sample proportion is significantly different from the population proportion.\n",
      "\n"
     ]
    }
   ],
   "source": [
    "import scipy.stats as stats\n",
    "\n",
    "# Assume that sample_input is your DataFrame, and 'Gender' is the column with 'Male' or 'Female'\n",
    "# Calculate the sample proportion for each gender\n",
    "\n",
    "sample_pct_female = sample_input[sample_input['Gender'] == 'Female'].shape[0] / sample_input.shape[0]\n",
    "sample_pct_male = sample_input[sample_input['Gender'] == 'Male'].shape[0] / sample_input.shape[0]\n",
    "sample_pct_gender  =  sample_pct_female + sample_pct_male\n",
    "sample_pct_female = sample_pct_female / sample_pct_gender\n",
    "sample_pct_male =  sample_pct_male / sample_pct_gender\n",
    "# Perform the test for each gender\n",
    "for gender, sample_pct, pop_pct in [('Female', sample_pct_female, pop_pct_female), ('Male', sample_pct_male, pop_pct_male)]:\n",
    "    print(f\"For {gender}:\")\n",
    "    print(f\"Sample proportion: {sample_pct}\")\n",
    "    print(f\"Population proportion: {pop_pct}\")\n",
    "    print(f\"H0: The sample proportion is equal to the population proportion\")\n",
    "    print(f\"H1: The sample proportion is not equal to the population proportion\")\n",
    "    \n",
    "    # Calculate test statistic\n",
    "    z = (sample_pct - pop_pct) / ((pop_pct * (1 - pop_pct) / sample_input.shape[0]) ** 0.5)\n",
    "    print(f\"Test statistic (Z): {z}\")\n",
    "    \n",
    "    # Calculate p-value\n",
    "    p_value = 2 * stats.norm.cdf(-abs(z))  # Two-tailed test\n",
    "    print(f\"P-value: {p_value}\")\n",
    "    \n",
    "    # Conclusion\n",
    "    if p_value < 0.05:\n",
    "        print(\"Conclusion: We reject the null hypothesis. The sample proportion is significantly different from the population proportion.\\n\")\n",
    "    else:\n",
    "        print(\"Conclusion: We fail to reject the null hypothesis. The sample proportion is not significantly different from the population proportion.\\n\")\n"
   ]
  }
 ],
 "metadata": {
  "colab": {
   "provenance": []
  },
  "kernelspec": {
   "display_name": "Python 3 (ipykernel)",
   "language": "python",
   "name": "python3"
  },
  "language_info": {
   "codemirror_mode": {
    "name": "ipython",
    "version": 3
   },
   "file_extension": ".py",
   "mimetype": "text/x-python",
   "name": "python",
   "nbconvert_exporter": "python",
   "pygments_lexer": "ipython3",
   "version": "3.10.9"
  }
 },
 "nbformat": 4,
 "nbformat_minor": 5
}
